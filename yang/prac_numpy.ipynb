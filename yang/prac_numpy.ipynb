{
  "nbformat": 4,
  "nbformat_minor": 0,
  "metadata": {
    "colab": {
      "provenance": []
    },
    "kernelspec": {
      "name": "python3",
      "display_name": "Python 3"
    },
    "language_info": {
      "name": "python"
    }
  },
  "cells": [
    {
      "cell_type": "markdown",
      "source": [
        "넘파이 모듈"
      ],
      "metadata": {
        "id": "kZhioF1azy-f"
      }
    },
    {
      "cell_type": "code",
      "execution_count": 1,
      "metadata": {
        "id": "6lIuJWsMnLzT"
      },
      "outputs": [],
      "source": [
        "# 모듈 임포트\n",
        "import numpy as np"
      ]
    },
    {
      "cell_type": "markdown",
      "source": [
        "실습"
      ],
      "metadata": {
        "id": "iLyOR1Rv4ao6"
      }
    },
    {
      "cell_type": "code",
      "source": [
        "#np.array() 함수\n",
        "#ndarray.shape: ndarray의 차원과 크기를 튜플() 형태로\n",
        "\n",
        "array1 = np.array([1,2,3])\n",
        "print('array1 type:', type(array1))\n",
        "print('array1 array 형태:',array1.shape)\n",
        "\n",
        "array2 = np.array([[1,2,3],\n",
        "                  [2,3,4]])\n",
        "print('array2 type:', type(array2))\n",
        "print('array2 array 형태:',array2.shape)\n",
        "\n",
        "array3 = np.array([[1,2,3]])\n",
        "print('array3 type:', type(array3))\n",
        "print('array4 array 형태:',array3.shape)\n"
      ],
      "metadata": {
        "colab": {
          "base_uri": "https://localhost:8080/"
        },
        "id": "SJ38o8lrz6jY",
        "outputId": "9c412b14-e64b-4a78-e7d9-bd4f5d977c44"
      },
      "execution_count": 3,
      "outputs": [
        {
          "output_type": "stream",
          "name": "stdout",
          "text": [
            "array1 type: <class 'numpy.ndarray'>\n",
            "array1 array 형태: (3,)\n",
            "array2 type: <class 'numpy.ndarray'>\n",
            "array2 array 형태: (2, 3)\n",
            "array3 type: <class 'numpy.ndarray'>\n",
            "array4 array 형태: (1, 3)\n"
          ]
        }
      ]
    },
    {
      "cell_type": "code",
      "source": [
        "# ndarray.ndim: ndarray의 차원\n",
        "print('array1:{:0}차원, array2:{:1}차원,array3:{:2}차원'.format(array1.ndim, array2.ndim, array3.ndim))"
      ],
      "metadata": {
        "colab": {
          "base_uri": "https://localhost:8080/"
        },
        "id": "jsnKbdho0mth",
        "outputId": "18a5c4fc-2ec6-4acb-d119-326b0d0ec5e3"
      },
      "execution_count": 4,
      "outputs": [
        {
          "output_type": "stream",
          "name": "stdout",
          "text": [
            "array1:1차원, array2:2차원,array3: 2차원\n"
          ]
        }
      ]
    },
    {
      "cell_type": "code",
      "source": [
        "# ndarray의 데이터 타입\n",
        "\n",
        "list1 = [1,2,3]\n",
        "print(type(list1))\n",
        "array1= np.array(list1)  #리스트 자료형인list1을 ndarray로 변경\n",
        "print(type(array1))\n",
        "print(array1,array1.dtype)\n",
        "\n",
        "list2 = [1,2,'test']\n",
        "array2 = np.array(list2)\n",
        "print(array2, array2.dtype)\n",
        "\n",
        "list3 = [1,2,3.0]\n",
        "array3 = np.array(list3)\n",
        "print(array3, array3.dtype)"
      ],
      "metadata": {
        "colab": {
          "base_uri": "https://localhost:8080/"
        },
        "id": "j5vZqeQ_2DTc",
        "outputId": "73934f98-413e-461d-bed6-9ba9b9b25521"
      },
      "execution_count": 9,
      "outputs": [
        {
          "output_type": "stream",
          "name": "stdout",
          "text": [
            "<class 'list'>\n",
            "<class 'numpy.ndarray'>\n",
            "[1 2 3] int64\n",
            "['1' '2' 'test'] <U21\n",
            "[1. 2. 3.] float64\n"
          ]
        }
      ]
    },
    {
      "cell_type": "code",
      "source": [
        "# astype(): ndarray내 데이터타입 변경\n",
        "\n",
        "array_int=np.array([1,2,3])\n",
        "array_float= array_int.astype('float64') # .astype()\n",
        "print(array_float, array_float.dtype)"
      ],
      "metadata": {
        "colab": {
          "base_uri": "https://localhost:8080/"
        },
        "id": "kdIartzg3d0z",
        "outputId": "a1bc9243-fc61-486b-f530-8b047fe43edc"
      },
      "execution_count": 8,
      "outputs": [
        {
          "output_type": "stream",
          "name": "stdout",
          "text": [
            "[1. 2. 3.] float64\n"
          ]
        }
      ]
    },
    {
      "cell_type": "code",
      "source": [
        "# arrange(), zeros(), ones() 이용해 ndarray 생성\n",
        "\n",
        "# arrange() : array를 range()로 표현.0부터 함수인자값 -1까지의 값을 순차적으로 ndarray의 데이터값으로 변환\n",
        "sequence_array = np.arange(10)\n",
        "print(sequence_array)\n",
        "print(sequence_array.dtype, sequence_array.shape)\n",
        "\n",
        "# zero() : ndarray.shape시에 모든 값을 0(int)으로 채워 ndarray반환\n",
        "zero_array = np.zeros((3,2),dtype='int32')\n",
        "print(zero_array)\n",
        "print(zero_array.dtype, zero_array.shape)\n",
        "\n",
        "# one() : ndarray.shape시에 모든 값을 1(float64형)로 채워 ndarray반환\n",
        "one_array = np.ones((3,2))\n",
        "print(one_array)\n",
        "print(one_array.dtype,one_array.shape)"
      ],
      "metadata": {
        "colab": {
          "base_uri": "https://localhost:8080/"
        },
        "id": "X2pr8klN4owE",
        "outputId": "f01e14f2-250d-4905-cbc0-e5c8caadf693"
      },
      "execution_count": 13,
      "outputs": [
        {
          "output_type": "stream",
          "name": "stdout",
          "text": [
            "[0 1 2 3 4 5 6 7 8 9]\n",
            "int64 (10,)\n",
            "[[0 0]\n",
            " [0 0]\n",
            " [0 0]]\n",
            "int32 (3, 2)\n",
            "[[1. 1.]\n",
            " [1. 1.]\n",
            " [1. 1.]]\n",
            "float64 (3, 2)\n"
          ]
        }
      ]
    },
    {
      "cell_type": "code",
      "source": [
        "# reshape()\n",
        "# :ndarray를 특정차원 및 크기로 변환. 원하는 크기를 인자로 부여\n",
        "array1 = np.arange(10)\n",
        "print('array1:\\n',array1)\n",
        "\n",
        "array2 = array1.reshape(2,5)\n",
        "print('array2:\\n', array2)\n",
        "\n",
        "array3 = array1.reshape(5,2)\n",
        "print('array3:\\n', array3)\n",
        "\n",
        "# reshape 효율적 사용 -> reshape()의 인자를 -1로 적용하는 경우\n",
        "array1 = np.arange(10)\n",
        "print('array1:\\n',array1)\n",
        "array2 = array1.reshape(-1,5)\n",
        "print('array2:\\n', array2.shape)\n",
        "array3 = array1.reshape(5,-1)\n",
        "print('array3:\\n', array3.shape)\n",
        "#ndarray와 호환되는 shape로 스스로 변환"
      ],
      "metadata": {
        "colab": {
          "base_uri": "https://localhost:8080/"
        },
        "id": "60JKYW9c4uu3",
        "outputId": "63fca9a8-e5e4-4b22-f20e-6116c4eedbd8"
      },
      "execution_count": 18,
      "outputs": [
        {
          "output_type": "stream",
          "name": "stdout",
          "text": [
            "array1:\n",
            " [0 1 2 3 4 5 6 7 8 9]\n",
            "array2:\n",
            " [[0 1 2 3 4]\n",
            " [5 6 7 8 9]]\n",
            "array3:\n",
            " [[0 1]\n",
            " [2 3]\n",
            " [4 5]\n",
            " [6 7]\n",
            " [8 9]]\n",
            "array1:\n",
            " [0 1 2 3 4 5 6 7 8 9]\n",
            "array2:\n",
            " (2, 5)\n",
            "array3:\n",
            " (5, 2)\n"
          ]
        }
      ]
    },
    {
      "cell_type": "code",
      "source": [
        "# 인덱싱(indexing)\n",
        "# 넘파이에서 ndarray내 일부 데이터 세트나 특정 데이터만을 선택할 수 있도록 함\n",
        "\n",
        "# 1.단일 특정값 추출\n",
        "\n",
        "# 2.슬라이싱\n",
        "\n",
        "# 3.팬시 인덱싱\n",
        "# 리스트나 ndarray로 인덱스 집합 지정하면 해당 위치의 인덱스에 해당하는 ndarray반환하는 방식\n",
        "\n",
        "# 4.불린 인덱싱\n",
        "# 조건 필터링과 검색이 동시에 가능한 방식\n",
        "array1d = np.arange(start=1,stop=10)\n",
        "array3 = array1d[array1d>5]  # [ ]안에 array1d>5 , Boolean indexing을 적용\n",
        "print('array1d > 5 불린인덱싱 결과 값:', array3)\n",
        "#필터링과정\n",
        "array1d >5"
      ],
      "metadata": {
        "colab": {
          "base_uri": "https://localhost:8080/"
        },
        "id": "kPKHg6qVNicm",
        "outputId": "1ebfd3e5-1ee7-41a3-d7aa-040caad6eaec"
      },
      "execution_count": 20,
      "outputs": [
        {
          "output_type": "stream",
          "name": "stdout",
          "text": [
            "array1d > 5 불린인덱싱 결과 값: [6 7 8 9]\n"
          ]
        },
        {
          "output_type": "execute_result",
          "data": {
            "text/plain": [
              "array([False, False, False, False, False,  True,  True,  True,  True])"
            ]
          },
          "metadata": {},
          "execution_count": 20
        }
      ]
    },
    {
      "cell_type": "code",
      "source": [
        "# 행렬의 정렬\n",
        "\n",
        "# sort(): 두가지 행렬 정렬방식 존재\n",
        "\n",
        "org_array = np.array([3,1,9,5])\n",
        "print('원본행렬:',org_array)\n",
        "# 1.np.sort() : 원 행렬은 그대로 유지한채 원 행렬의 정렬된 행렬을 반환\n",
        "sort_array1 = np.sort(org_array)\n",
        "print('np.sort()호출 후 반환된 정렬 행렬:', sort_array1)\n",
        "print('np.sort()호출 후 원본 행렬:', org_array)\n",
        "\n",
        "# 2.ndarray.sort() : 원 행렬자체를 정렬한 형태로 변환하며 반환 값은 None\n",
        "\n",
        "# argsort():정렬된 행렬의 인덱스를 반환하기"
      ],
      "metadata": {
        "id": "MJ40NmiBQOMH"
      },
      "execution_count": null,
      "outputs": []
    }
  ]
}
