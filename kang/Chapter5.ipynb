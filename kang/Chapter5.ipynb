{
 "cells": [
  {
   "cell_type": "markdown",
   "id": "e3075879-9f42-4380-9a9a-25b55d1f258b",
   "metadata": {},
   "source": [
    "# 회귀"
   ]
  },
  {
   "cell_type": "markdown",
   "id": "3c69360d-5149-41c3-b074-f3baf39c28cc",
   "metadata": {},
   "source": [
    "회귀 분석은 데이터 값이 평균과 같은 일정한 값으로 돌아가려는 경향을 이용한 통계학 기법이다.\n",
    "\n",
    "여러 개의 독립변수와 한 개의 종속변수 간의 상관관계를 모델링하는 기법을 통칭한다.\n",
    "\n",
    "머신러닝 회귀 예측의 핵심은 주어진 피처와 결정 값 데이터 기반에서 학습을 통해 최적의 회귀 계수를 찾아내는 것이다."
   ]
  },
  {
   "cell_type": "markdown",
   "id": "3d073835-4cd6-44da-881a-06a48ca1fb9a",
   "metadata": {},
   "source": [
    "회귀 계수에 따라\n",
    "+ 선형 회귀\n",
    "+ 비선형 회귀\n",
    "\n",
    "독립변수 개수에 따라\n",
    "+ 단일 회귀\n",
    "+ 다중 회귀"
   ]
  },
  {
   "cell_type": "markdown",
   "id": "b2b4c518-84e4-40ca-9ab4-8f6aa85e7e32",
   "metadata": {},
   "source": [
    "## 선형 회귀"
   ]
  },
  {
   "cell_type": "markdown",
   "id": "7ed7681c-1ac3-4f66-b6ee-36ab5ad167cf",
   "metadata": {},
   "source": [
    "+ 일반 선형 회귀: 규제를 적용하지 않은 모델\n",
    "+ 릿지 Ridge: L2 규제 추가. L2 규제는 상대적으로 큰 회귀 계수 값의 예측 영향도를 감소시키기 위해서 회귀 계수값을 더 작게 만드는 규제 모델\n",
    "+ 라쏘 Lasso: L1 규제 추가. L1 규제는 예측 영향력이 작은 피처의 회귀 계수를 0으로 만들어 예측 시 피처가 선택되지 않게 하는 것.\n",
    "+ 엘라스틱넷 Elastic Net: L2, L1 규제를 함께 결합한 모델. 피처 개수를 줄임과 동시에 계수 값의 크기를 조정함.\n",
    "+ 로지스틱 회귀 Logistic Regression: 분류에 사용되는 선형 모델. 이진 분류, 희소 영역의 분류 등에서 뛰어난 예측 성능을 보임."
   ]
  },
  {
   "cell_type": "markdown",
   "id": "e167b9e4-c2b4-4507-a3ab-2067caa0ff89",
   "metadata": {},
   "source": [
    "### 단순 선형 회귀"
   ]
  },
  {
   "cell_type": "markdown",
   "id": "5dc8a774-a067-43be-a74a-4abb5afad6e5",
   "metadata": {},
   "source": [
    "독립변수 한 개. 종속변수 한 개."
   ]
  },
  {
   "cell_type": "markdown",
   "id": "8fdc51ca-24bd-4107-b878-9274141aecdc",
   "metadata": {},
   "source": [
    "$$ RSS(\\omega_0,\\omega_1) = \\frac{1}{N} \\sum_{i=1}^N(y_i-(\\omega_0 + \\omega_1 * x_i))^2 $$"
   ]
  },
  {
   "cell_type": "markdown",
   "id": "c037c82b-7aaa-4241-ae07-5d04c2ca06e5",
   "metadata": {},
   "source": [
    "### 경사 하강법"
   ]
  },
  {
   "cell_type": "markdown",
   "id": "64796d40-bc2b-4aa7-86c4-e44d5355a3a0",
   "metadata": {},
   "source": [
    "점진적으로 반복적인 계산을 통해 W 파라미터 값을 업데이트하면서 오류 값이 최소가 되는 W 파라미터를 구하는 방식"
   ]
  },
  {
   "cell_type": "markdown",
   "id": "35d38019-a9dd-4212-9302-c75eef741140",
   "metadata": {},
   "source": [
    "$ R(\\omega) = \\frac{1}{N} \\sum_{i=1}^N(y_i-(\\omega_0 + \\omega_1 * x_i))^2 $\n",
    "\n",
    "$R(\\omega)$는 두 개의 $\\omega$ 파라미터를 가지고 있기 때문에 각 변수에 편미분을 적용한다."
   ]
  },
  {
   "cell_type": "markdown",
   "id": "e15484f6-b102-4788-9d0c-736fae63141e",
   "metadata": {},
   "source": [
    "$$ \\frac{\\partial R(\\omega)}{\\partial \\omega_1} =  \\frac{2}{N} \\sum_{i=1}^N -x_t*(y_i-(\\omega_0+\\omega_1x_i)) = -\\frac{2}{N}\\sum_{i=1}^N x_i*(실제값_i-예측값_i) $$"
   ]
  },
  {
   "cell_type": "markdown",
   "id": "36749b94-90c9-493e-9c5a-d235cc81a377",
   "metadata": {},
   "source": [
    "$$ \\frac{\\partial R(\\omega)}{\\partial \\omega_0} =  \\frac{2}{N} \\sum_{i=1}^N -(y_i-(\\omega_0+\\omega_1x_i)) = -\\frac{2}{N}\\sum_{i=1}^N (실제값_i-예측값_i) $$"
   ]
  },
  {
   "cell_type": "markdown",
   "id": "19007416-036b-432e-84c1-b9c0ed067139",
   "metadata": {},
   "source": [
    "각 편미분 값을 보정하면서 $\\omega_1, \\omega_0$ 값을 업데이트하여 비용 함수 $R(\\omega)$가 최소가 되는 $\\omega_1, \\omega_0$ 값을 구한다."
   ]
  },
  {
   "cell_type": "markdown",
   "id": "7574747e-5afc-46b2-ad97-08c05739b1b1",
   "metadata": {},
   "source": [
    "$\\omega_1=이전 \\omega_1+\\eta\\frac{2}{N}\\sum_{i=1}^N x_i*(실제값_i-예측값_i) $"
   ]
  },
  {
   "cell_type": "markdown",
   "id": "8cb8e937-eeb5-4e91-b636-96b48acdaa22",
   "metadata": {},
   "source": [
    "### 다항 회귀"
   ]
  },
  {
   "cell_type": "markdown",
   "id": "6dda474d-77e2-45e6-bdbe-3b5d1889705d",
   "metadata": {},
   "source": [
    "회귀가 독립변수의 단항식이 아닌 2차, 3차 방정식과 같은 다항식으로 표현되는 것"
   ]
  },
  {
   "cell_type": "markdown",
   "id": "63948db6-d2d0-4fb2-86df-c954ca2afa2e",
   "metadata": {},
   "source": [
    "회귀에서 선형/비선형 회귀를 나누는 기준은 회귀 계수가 선형/비선형인지에 따른 것이지 독립변수의 선형/비선형 여부와는 무관하기 때문에 다항 회귀는 선형 회귀이다."
   ]
  },
  {
   "cell_type": "markdown",
   "id": "a2f86c12-bb0c-49a3-b0d7-5be9a4f5ef22",
   "metadata": {},
   "source": [
    "### 편향 분산 트레이드 오프"
   ]
  },
  {
   "cell_type": "markdown",
   "id": "68d25f9b-514b-43a8-971e-64c636c49231",
   "metadata": {},
   "source": [
    "+ 고편향 high bias: 지나치게 한 방향성으로 치우침. -> 과소적합\n",
    "+ 고분산 high variance: 지나치게 높은 변동성을 가짐. -> 과적합\n",
    "\n",
    "편향을 낮추고 분산을 높이면서 전체 오류가 낮아지는 골디락스 지점을 통과하면, 다시 분산이 높아지고 전체 오류 값이 증가하게 됨."
   ]
  },
  {
   "cell_type": "markdown",
   "id": "79d73ebc-d3a1-4cee-92fe-c8d7d483c85c",
   "metadata": {},
   "source": [
    "## 규제 선형 모델\n",
    "회귀 모델은 적절히 데이터에 적합하면서도 회귀 계수가 기하급수적으로 커지는 것을 제어할 수 있어야 한다.\n",
    "\n",
    "비용함수는 학습 데이터의 RSS 최소화 방법(잔차 오류 값을 최소로 하는)과 회귀 계수 값이 커지지 않도록 하는 방법(과적합 방지를 위한)이 서로 균형을 이뤄야 한다."
   ]
  },
  {
   "cell_type": "markdown",
   "id": "5f927602-5f2c-461c-8555-51cde8dfba24",
   "metadata": {},
   "source": [
    "비용함수 목표 = $Min(RRS(W) + alpha*||W||_2^2)$"
   ]
  },
  {
   "cell_type": "markdown",
   "id": "d3f980b9-bf54-46f0-a122-88122e3733e4",
   "metadata": {},
   "source": [
    "alpha: 학습 데이터 적합 정도와 회귀 계수 값의 크기 제어를 수행하는 튜닝 파라미터\n",
    "\n",
    "alpha 값을 크게 하면 배용 함수는 회귀 계수 W의 값을 작게 해 과적합을 개선할 수 있으며,\n",
    "\n",
    "alpha 값을 작게 하면 회귀 계수 W의 값이 커져도 어느 정도 상쇄가 가능하므로 학습 데이터 적합을 더 개선할 수 있다."
   ]
  },
  {
   "cell_type": "markdown",
   "id": "25d5e045-3041-4601-a3e0-83c53e09474c",
   "metadata": {},
   "source": [
    "+ 릿지: L2 규제. $alpha*||W||_2^2$\n",
    "+ 라쏘: L1 규제. $alpha*||W||_1$\n",
    "+ 엘라스틱넷: $alpha2*||W||_2^2 + alpha1*||W||_1$"
   ]
  },
  {
   "cell_type": "markdown",
   "id": "da96d8bb-91ec-4781-8783-eb7bed71e407",
   "metadata": {},
   "source": [
    "릿지와 다르게 라쏘는 일부 피처의 회귀 계수를 0으로 만들어 회귀 식에서 제외시키면서 피처 선택의 효과를 얻을 수 있다.\n",
    "\n",
    "엘라스틱넷은 라쏘 회귀가 서로 상관관계가 높은 피처들의 경우에 이들 중에서 중요 피처만을 셀렉션하고 다른 피처들은 모두 회귀 계수를 0으로 만드는 성향이 강하다."
   ]
  },
  {
   "cell_type": "markdown",
   "id": "dc3f1176-03d0-4441-99b8-20d4f9ba750d",
   "metadata": {},
   "source": [
    "엘라스틱넷의 주요 생성 파라미터\n",
    "+ alpha: $alpha1+alpha2$\n",
    "+ l1_ratio: $\\frac{alpha1}{alpha1+alpha2}$"
   ]
  },
  {
   "cell_type": "markdown",
   "id": "7958f6a3-7f04-467b-a7d5-5c6fd69bdae3",
   "metadata": {},
   "source": [
    "### 로지스틱 회귀\n",
    "선형 회귀 방식을 분류에 적용한 알고리즘"
   ]
  },
  {
   "cell_type": "markdown",
   "id": "fa2a0032-c509-4801-b4c6-51f58429e9e7",
   "metadata": {},
   "source": [
    "로지스틱 회귀가 선형 회귀와 다른 점은 학습을 통해 시그모이드 함수 최적선을 찾고,\n",
    "\n",
    "이 시그모이드 함수의 반환 값을 확률로 간주해 확률에 따라 분류를 결정한다는 것이다."
   ]
  },
  {
   "cell_type": "markdown",
   "id": "ee29a898-7b70-4c81-8ed5-f97063e6b79f",
   "metadata": {},
   "source": [
    "## 회귀 트리"
   ]
  },
  {
   "cell_type": "markdown",
   "id": "477bc0ef-5d86-4644-9e1e-aac0d5be6abc",
   "metadata": {},
   "source": [
    "트리를 기반으로 하는 회귀 방식\n",
    "\n",
    "리프 노드에 속한 데이터 값의 평균값을 구해 회귀 예측값을 계산한다.\n",
    "\n",
    "선형 회귀는 직선으로 예측 회귀선을 표현하는 데 반해,\n",
    "\n",
    "회귀 트리의 경우 분할되는 데이터 지점에 따라 브랜치를 만들면서 계단 형태로 회귀선을 만든다."
   ]
  },
  {
   "cell_type": "markdown",
   "id": "8ebe24fe-620c-4664-94b6-5de03423e882",
   "metadata": {},
   "source": [
    "## 자전거 대여 수요 예측"
   ]
  },
  {
   "cell_type": "markdown",
   "id": "4e18aa1b-033c-4f32-8e91-32b4873114cb",
   "metadata": {},
   "source": [
    "### 데이터 전처리"
   ]
  },
  {
   "cell_type": "code",
   "execution_count": 2,
   "id": "2d2d265f-4cad-48e2-b02f-145c67753750",
   "metadata": {},
   "outputs": [
    {
     "name": "stdout",
     "output_type": "stream",
     "text": [
      "(10886, 12)\n"
     ]
    },
    {
     "data": {
      "text/html": [
       "<div>\n",
       "<style scoped>\n",
       "    .dataframe tbody tr th:only-of-type {\n",
       "        vertical-align: middle;\n",
       "    }\n",
       "\n",
       "    .dataframe tbody tr th {\n",
       "        vertical-align: top;\n",
       "    }\n",
       "\n",
       "    .dataframe thead th {\n",
       "        text-align: right;\n",
       "    }\n",
       "</style>\n",
       "<table border=\"1\" class=\"dataframe\">\n",
       "  <thead>\n",
       "    <tr style=\"text-align: right;\">\n",
       "      <th></th>\n",
       "      <th>datetime</th>\n",
       "      <th>season</th>\n",
       "      <th>holiday</th>\n",
       "      <th>workingday</th>\n",
       "      <th>weather</th>\n",
       "      <th>temp</th>\n",
       "      <th>atemp</th>\n",
       "      <th>humidity</th>\n",
       "      <th>windspeed</th>\n",
       "      <th>casual</th>\n",
       "      <th>registered</th>\n",
       "      <th>count</th>\n",
       "    </tr>\n",
       "  </thead>\n",
       "  <tbody>\n",
       "    <tr>\n",
       "      <th>0</th>\n",
       "      <td>2011-01-01 00:00:00</td>\n",
       "      <td>1</td>\n",
       "      <td>0</td>\n",
       "      <td>0</td>\n",
       "      <td>1</td>\n",
       "      <td>9.84</td>\n",
       "      <td>14.395</td>\n",
       "      <td>81</td>\n",
       "      <td>0.0</td>\n",
       "      <td>3</td>\n",
       "      <td>13</td>\n",
       "      <td>16</td>\n",
       "    </tr>\n",
       "    <tr>\n",
       "      <th>1</th>\n",
       "      <td>2011-01-01 01:00:00</td>\n",
       "      <td>1</td>\n",
       "      <td>0</td>\n",
       "      <td>0</td>\n",
       "      <td>1</td>\n",
       "      <td>9.02</td>\n",
       "      <td>13.635</td>\n",
       "      <td>80</td>\n",
       "      <td>0.0</td>\n",
       "      <td>8</td>\n",
       "      <td>32</td>\n",
       "      <td>40</td>\n",
       "    </tr>\n",
       "    <tr>\n",
       "      <th>2</th>\n",
       "      <td>2011-01-01 02:00:00</td>\n",
       "      <td>1</td>\n",
       "      <td>0</td>\n",
       "      <td>0</td>\n",
       "      <td>1</td>\n",
       "      <td>9.02</td>\n",
       "      <td>13.635</td>\n",
       "      <td>80</td>\n",
       "      <td>0.0</td>\n",
       "      <td>5</td>\n",
       "      <td>27</td>\n",
       "      <td>32</td>\n",
       "    </tr>\n",
       "  </tbody>\n",
       "</table>\n",
       "</div>"
      ],
      "text/plain": [
       "              datetime  season  holiday  workingday  weather  temp   atemp  \\\n",
       "0  2011-01-01 00:00:00       1        0           0        1  9.84  14.395   \n",
       "1  2011-01-01 01:00:00       1        0           0        1  9.02  13.635   \n",
       "2  2011-01-01 02:00:00       1        0           0        1  9.02  13.635   \n",
       "\n",
       "   humidity  windspeed  casual  registered  count  \n",
       "0        81        0.0       3          13     16  \n",
       "1        80        0.0       8          32     40  \n",
       "2        80        0.0       5          27     32  "
      ]
     },
     "execution_count": 2,
     "metadata": {},
     "output_type": "execute_result"
    }
   ],
   "source": [
    "import numpy as np\n",
    "import pandas as pd\n",
    "import seaborn as sns\n",
    "import matplotlib.pyplot as plt\n",
    "%matplotlib inline\n",
    "\n",
    "import warnings\n",
    "warnings.filterwarnings(\"ignore\", category=RuntimeWarning)\n",
    "\n",
    "bike_df = pd.read_csv('./bike_train.csv')\n",
    "print(bike_df.shape)\n",
    "bike_df.head(3)"
   ]
  },
  {
   "cell_type": "markdown",
   "id": "ca1016c8-4666-4886-b85a-6ea1f8063a74",
   "metadata": {},
   "source": [
    "10886개의 레코드와 12개의 칼럼으로 구성되어 있다."
   ]
  },
  {
   "cell_type": "code",
   "execution_count": 3,
   "id": "d4751cb5-3027-434b-b754-f80d2542eecd",
   "metadata": {},
   "outputs": [
    {
     "name": "stdout",
     "output_type": "stream",
     "text": [
      "<class 'pandas.core.frame.DataFrame'>\n",
      "RangeIndex: 10886 entries, 0 to 10885\n",
      "Data columns (total 12 columns):\n",
      " #   Column      Non-Null Count  Dtype  \n",
      "---  ------      --------------  -----  \n",
      " 0   datetime    10886 non-null  object \n",
      " 1   season      10886 non-null  int64  \n",
      " 2   holiday     10886 non-null  int64  \n",
      " 3   workingday  10886 non-null  int64  \n",
      " 4   weather     10886 non-null  int64  \n",
      " 5   temp        10886 non-null  float64\n",
      " 6   atemp       10886 non-null  float64\n",
      " 7   humidity    10886 non-null  int64  \n",
      " 8   windspeed   10886 non-null  float64\n",
      " 9   casual      10886 non-null  int64  \n",
      " 10  registered  10886 non-null  int64  \n",
      " 11  count       10886 non-null  int64  \n",
      "dtypes: float64(3), int64(8), object(1)\n",
      "memory usage: 1020.7+ KB\n"
     ]
    }
   ],
   "source": [
    "bike_df.info()"
   ]
  },
  {
   "cell_type": "markdown",
   "id": "e6293e7b-5ffa-4c4a-a10b-af1c4731ea43",
   "metadata": {},
   "source": [
    "null 데이터는 존재하지 않으며, datetime 칼럼만 object형이고 나머지는 모두 숫자형이다."
   ]
  },
  {
   "cell_type": "code",
   "execution_count": 4,
   "id": "6295e01a-abd8-448b-8bfe-6d4af39cfc62",
   "metadata": {},
   "outputs": [
    {
     "data": {
      "text/html": [
       "<div>\n",
       "<style scoped>\n",
       "    .dataframe tbody tr th:only-of-type {\n",
       "        vertical-align: middle;\n",
       "    }\n",
       "\n",
       "    .dataframe tbody tr th {\n",
       "        vertical-align: top;\n",
       "    }\n",
       "\n",
       "    .dataframe thead th {\n",
       "        text-align: right;\n",
       "    }\n",
       "</style>\n",
       "<table border=\"1\" class=\"dataframe\">\n",
       "  <thead>\n",
       "    <tr style=\"text-align: right;\">\n",
       "      <th></th>\n",
       "      <th>datetime</th>\n",
       "      <th>season</th>\n",
       "      <th>holiday</th>\n",
       "      <th>workingday</th>\n",
       "      <th>weather</th>\n",
       "      <th>temp</th>\n",
       "      <th>atemp</th>\n",
       "      <th>humidity</th>\n",
       "      <th>windspeed</th>\n",
       "      <th>casual</th>\n",
       "      <th>registered</th>\n",
       "      <th>count</th>\n",
       "      <th>year</th>\n",
       "      <th>month</th>\n",
       "      <th>day</th>\n",
       "      <th>hour</th>\n",
       "    </tr>\n",
       "  </thead>\n",
       "  <tbody>\n",
       "    <tr>\n",
       "      <th>0</th>\n",
       "      <td>2011-01-01 00:00:00</td>\n",
       "      <td>1</td>\n",
       "      <td>0</td>\n",
       "      <td>0</td>\n",
       "      <td>1</td>\n",
       "      <td>9.84</td>\n",
       "      <td>14.395</td>\n",
       "      <td>81</td>\n",
       "      <td>0.0</td>\n",
       "      <td>3</td>\n",
       "      <td>13</td>\n",
       "      <td>16</td>\n",
       "      <td>2011</td>\n",
       "      <td>1</td>\n",
       "      <td>1</td>\n",
       "      <td>0</td>\n",
       "    </tr>\n",
       "    <tr>\n",
       "      <th>1</th>\n",
       "      <td>2011-01-01 01:00:00</td>\n",
       "      <td>1</td>\n",
       "      <td>0</td>\n",
       "      <td>0</td>\n",
       "      <td>1</td>\n",
       "      <td>9.02</td>\n",
       "      <td>13.635</td>\n",
       "      <td>80</td>\n",
       "      <td>0.0</td>\n",
       "      <td>8</td>\n",
       "      <td>32</td>\n",
       "      <td>40</td>\n",
       "      <td>2011</td>\n",
       "      <td>1</td>\n",
       "      <td>1</td>\n",
       "      <td>1</td>\n",
       "    </tr>\n",
       "    <tr>\n",
       "      <th>2</th>\n",
       "      <td>2011-01-01 02:00:00</td>\n",
       "      <td>1</td>\n",
       "      <td>0</td>\n",
       "      <td>0</td>\n",
       "      <td>1</td>\n",
       "      <td>9.02</td>\n",
       "      <td>13.635</td>\n",
       "      <td>80</td>\n",
       "      <td>0.0</td>\n",
       "      <td>5</td>\n",
       "      <td>27</td>\n",
       "      <td>32</td>\n",
       "      <td>2011</td>\n",
       "      <td>1</td>\n",
       "      <td>1</td>\n",
       "      <td>2</td>\n",
       "    </tr>\n",
       "  </tbody>\n",
       "</table>\n",
       "</div>"
      ],
      "text/plain": [
       "             datetime  season  holiday  workingday  weather  temp   atemp  \\\n",
       "0 2011-01-01 00:00:00       1        0           0        1  9.84  14.395   \n",
       "1 2011-01-01 01:00:00       1        0           0        1  9.02  13.635   \n",
       "2 2011-01-01 02:00:00       1        0           0        1  9.02  13.635   \n",
       "\n",
       "   humidity  windspeed  casual  registered  count  year  month  day  hour  \n",
       "0        81        0.0       3          13     16  2011      1    1     0  \n",
       "1        80        0.0       8          32     40  2011      1    1     1  \n",
       "2        80        0.0       5          27     32  2011      1    1     2  "
      ]
     },
     "execution_count": 4,
     "metadata": {},
     "output_type": "execute_result"
    }
   ],
   "source": [
    "# 문자열을 datetime 타입으로 변경. \n",
    "bike_df['datetime'] = bike_df.datetime.apply(pd.to_datetime)\n",
    "\n",
    "# datetime 타입에서 년, 월, 일, 시간 추출\n",
    "bike_df['year'] = bike_df.datetime.apply(lambda x : x.year)\n",
    "bike_df['month'] = bike_df.datetime.apply(lambda x : x.month)\n",
    "bike_df['day'] = bike_df.datetime.apply(lambda x : x.day)\n",
    "bike_df['hour'] = bike_df.datetime.apply(lambda x: x.hour)\n",
    "bike_df.head(3)"
   ]
  },
  {
   "cell_type": "code",
   "execution_count": 5,
   "id": "7ae2c811-91f0-4165-927e-8cbcbe58b4a8",
   "metadata": {},
   "outputs": [],
   "source": [
    "drop_columns = ['datetime','casual','registered']\n",
    "bike_df.drop(drop_columns, axis=1,inplace=True)"
   ]
  },
  {
   "cell_type": "markdown",
   "id": "bc4fac02-a121-4b13-8ed0-15191e239ff7",
   "metadata": {},
   "source": [
    "년, 월, 일, 시간 칼럼을 추출하였고 datetime 칼럼은 삭제하였다.\n",
    "\n",
    "대여 횟수인 count는 count=casual+registered 이므로 상관도가 높아 예측 저해의 우려가 있으므로 casual과 registered 칼럼을 삭제하였다."
   ]
  },
  {
   "cell_type": "markdown",
   "id": "46b6ac75-db6a-4f2d-a351-e2ed4b11b39b",
   "metadata": {},
   "source": [
    "주요 칼럼별로 target 값인 count가 어떻게 분포되어 있는지 시각화하여 살펴본다."
   ]
  },
  {
   "cell_type": "code",
   "execution_count": 22,
   "id": "ffbac0c6-cefd-4e58-b90c-724af77734c3",
   "metadata": {},
   "outputs": [
    {
     "data": {
      "image/png": "[encoded data removed]",
      "text/plain": [
       "<Figure size 1600x800 with 8 Axes>"
      ]
     },
     "metadata": {},
     "output_type": "display_data"
    }
   ],
   "source": [
    "fig, axs = plt.subplots(figsize=(16, 8), ncols=4, nrows=2);\n",
    "cat_features = ['year', 'month','season','weather','day', 'hour', 'holiday','workingday']\n",
    "# cat_features에 있는 모든 칼럼별로 개별 칼럼값에 따른 count의 합을 barplot으로 시각화\n",
    "for i, feature in enumerate(cat_features):\n",
    "    row = int(i/4)\n",
    "    col = i%4\n",
    "    # 시본의 barplot을 이용해 칼럼값에 따른 count의 합을 표현\n",
    "    sns.barplot(x=feature, y='count', data=bike_df, ax=axs[row][col])\n",
    "plt.show()"
   ]
  },
  {
   "cell_type": "markdown",
   "id": "b49f48d8-312b-4156-9b5a-f0a5ba206b35",
   "metadata": {},
   "source": [
    "+ year: 2012년이 2011년보다 상대적으로 높으나 단지 시간에 다른 대여 횟수 증가로 보임.\n",
    "+ month, season: 봄, 겨울이 낮고 여름, 가을이 높다.\n",
    "+ weather: 눈, 비가 있는 경우 낮고 맑거나 약간 안개가 있는 경우 높다.\n",
    "+ hour: 출퇴근 시간이 상대적으로 높다.\n",
    "+ day, holiday, workingday: 차이가 크지 않으나 주중일 경우가 상대적으로 약간 높다."
   ]
  },
  {
   "cell_type": "markdown",
   "id": "9f008d67-0457-4a64-9a52-baabcee2a51b",
   "metadata": {},
   "source": [
    "캐글에서 RMSLE root mean sqaure log error를 요구하나 사이킷런에는 없으므로 직접 만들어 사용한다."
   ]
  },
  {
   "cell_type": "code",
   "execution_count": 15,
   "id": "9941dbcd-3c4e-42c1-b735-e5f6fb3f261d",
   "metadata": {},
   "outputs": [],
   "source": [
    "from sklearn.metrics import mean_squared_error, mean_absolute_error\n",
    "\n",
    "# log 값 변환 시 NaN등의 이슈로 log() 가 아닌 log1p() 를 이용하여 RMSLE 계산\n",
    "def rmsle(y, pred):\n",
    "    log_y = np.log1p(y)\n",
    "    log_pred = np.log1p(pred)\n",
    "    squared_error = (log_y - log_pred) ** 2\n",
    "    rmsle = np.sqrt(np.mean(squared_error))\n",
    "    return rmsle\n",
    "\n",
    "# 사이킷런의 mean_square_error() 를 이용하여 RMSE 계산\n",
    "def rmse(y,pred):\n",
    "    return np.sqrt(mean_squared_error(y,pred))\n",
    "\n",
    "# MSE, RMSE, RMSLE 를 모두 계산 \n",
    "def evaluate_regr(y,pred):\n",
    "    rmsle_val = rmsle(y,pred)\n",
    "    rmse_val = rmse(y,pred)\n",
    "    # MAE 는 scikit learn의 mean_absolute_error() 로 계산\n",
    "    mae_val = mean_absolute_error(y,pred)\n",
    "    print('RMSLE: {0:.3f}, RMSE: {1:.3F}, MAE: {2:.3F}'.format(rmsle_val, rmse_val, mae_val))"
   ]
  },
  {
   "cell_type": "markdown",
   "id": "8e9ca412-5c13-4a8a-a822-655e74991e07",
   "metadata": {},
   "source": [
    "log()보다는 log1p()를 사용하여 오버플로/언더풀로 오류 발생 문제를 해결한다."
   ]
  },
  {
   "cell_type": "markdown",
   "id": "cbf40a87-0aa4-4870-8160-08fd7ff82a7c",
   "metadata": {},
   "source": [
    "### 모델 예측"
   ]
  },
  {
   "cell_type": "markdown",
   "id": "8f65c528-2dda-469b-a713-e7182203fc36",
   "metadata": {},
   "source": [
    "회귀 모델 적용 전\n",
    "+ 결과값이 정규 분포인지\n",
    "+ 카테고리형 회귀 모델의 경우 원핫 인코딩으로 피처 인코딩이 되어 있는지 확인한다."
   ]
  },
  {
   "cell_type": "code",
   "execution_count": 17,
   "id": "22475d34-8710-420e-9ad2-144f02307223",
   "metadata": {},
   "outputs": [
    {
     "name": "stdout",
     "output_type": "stream",
     "text": [
      "RMSLE: 1.165, RMSE: 140.900, MAE: 105.924\n"
     ]
    }
   ],
   "source": [
    "from sklearn.model_selection import train_test_split , GridSearchCV\n",
    "from sklearn.linear_model import LinearRegression , Ridge , Lasso\n",
    "\n",
    "y_target = bike_df['count']\n",
    "X_features = bike_df.drop(['count'],axis=1,inplace=False)\n",
    "\n",
    "X_train, X_test, y_train, y_test = train_test_split(X_features, y_target, test_size=0.3, random_state=0)\n",
    "\n",
    "lr_reg = LinearRegression()\n",
    "lr_reg.fit(X_train, y_train)\n",
    "pred = lr_reg.predict(X_test)\n",
    "\n",
    "evaluate_regr(y_test ,pred)"
   ]
  },
  {
   "cell_type": "code",
   "execution_count": 19,
   "id": "20335904-864f-43dc-a758-f005cfe96ce1",
   "metadata": {},
   "outputs": [
    {
     "name": "stdout",
     "output_type": "stream",
     "text": [
      "      real_count  predicted_count   diff\n",
      "1618         890            322.0  568.0\n",
      "3151         798            241.0  557.0\n",
      "966          884            327.0  557.0\n",
      "412          745            194.0  551.0\n",
      "2817         856            310.0  546.0\n"
     ]
    }
   ],
   "source": [
    "def get_top_error_data(y_test, pred, n_tops = 5):\n",
    "    # DataFrame에 컬럼들로 실제 대여횟수(count)와 예측 값을 서로 비교 할 수 있도록 생성. \n",
    "    result_df = pd.DataFrame(y_test.values, columns=['real_count'])\n",
    "    result_df['predicted_count']= np.round(pred)\n",
    "    result_df['diff'] = np.abs(result_df['real_count'] - result_df['predicted_count'])\n",
    "    # 예측값과 실제값이 가장 큰 데이터 순으로 출력. \n",
    "    print(result_df.sort_values('diff', ascending=False)[:n_tops])\n",
    "    \n",
    "get_top_error_data(y_test,pred,n_tops=5)"
   ]
  },
  {
   "cell_type": "code",
   "execution_count": 24,
   "id": "a0cb9c35-e26f-48fb-8e31-9086d8aa9987",
   "metadata": {},
   "outputs": [
    {
     "data": {
      "image/png": "[encoded data removed]",
      "text/plain": [
       "<Figure size 640x480 with 1 Axes>"
      ]
     },
     "metadata": {},
     "output_type": "display_data"
    }
   ],
   "source": [
    "y_target.hist()\n",
    "plt.show()"
   ]
  },
  {
   "cell_type": "markdown",
   "id": "53502040-69e0-4c87-a674-effcf6a4ee9f",
   "metadata": {},
   "source": [
    "count 값이 정규 분포가 아님을 확인할 수 있다. 로그를 적용해 변환한다."
   ]
  },
  {
   "cell_type": "code",
   "execution_count": 25,
   "id": "1695aa32-d3f4-4a00-9342-68134b858f35",
   "metadata": {},
   "outputs": [
    {
     "data": {
      "image/png": "[encoded data removed]",
      "text/plain": [
       "<Figure size 640x480 with 1 Axes>"
      ]
     },
     "metadata": {},
     "output_type": "display_data"
    }
   ],
   "source": [
    "y_log_transform = np.log1p(y_target)\n",
    "y_log_transform.hist()\n",
    "plt.show()"
   ]
  },
  {
   "cell_type": "markdown",
   "id": "6f0ddaf6-5e89-4755-b534-a16a27bb6225",
   "metadata": {},
   "source": [
    "이제 다시 학습한 후 평가를 수행한다."
   ]
  },
  {
   "cell_type": "code",
   "execution_count": 26,
   "id": "ddf523a8-19b3-425c-8390-1dc5ec065c3a",
   "metadata": {},
   "outputs": [
    {
     "name": "stdout",
     "output_type": "stream",
     "text": [
      "RMSLE: 1.017, RMSE: 162.594, MAE: 109.286\n"
     ]
    }
   ],
   "source": [
    "# 타깃 칼럼인 count 값을 log1p로 로그 변환\n",
    "y_target_log = np.log1p(y_target)\n",
    "\n",
    "# 로그 변환된 y_target_log를 반영하여 학습/테스트 데이터 셋 분할\n",
    "X_train, X_test, y_train, y_test = train_test_split(X_features, y_target_log, test_size=0.3, random_state=0)\n",
    "lr_reg = LinearRegression()\n",
    "lr_reg.fit(X_train, y_train)\n",
    "pred = lr_reg.predict(X_test)\n",
    "\n",
    "# 테스트 데이터 셋의 Target 값은 Log 변환되었으므로 다시 expm1를 이용하여 원래 scale로 변환\n",
    "y_test_exp = np.expm1(y_test)\n",
    "\n",
    "# 예측 값 역시 Log 변환된 타깃 기반으로 학습되어 예측되었으므로 다시 exmpl으로 scale변환\n",
    "pred_exp = np.expm1(pred)\n",
    "\n",
    "evaluate_regr(y_test_exp ,pred_exp)"
   ]
  },
  {
   "cell_type": "markdown",
   "id": "94f0304e-7567-4d0a-a280-9828dacecac5",
   "metadata": {},
   "source": [
    "RMSLE 오류는 줄어들었으나 RMSE 오류는 증가하였다.\n",
    "\n",
    "개별 피처들에게 인코딩을 적용해보기 위해 각 피처의 회귀 계숫값을 시각화해본다."
   ]
  },
  {
   "cell_type": "code",
   "execution_count": 28,
   "id": "6392c19d-02c0-4640-9afb-80ab6418d20e",
   "metadata": {},
   "outputs": [
    {
     "data": {
      "image/png": "[encoded data removed]",
      "text/plain": [
       "<Figure size 640x480 with 1 Axes>"
      ]
     },
     "metadata": {},
     "output_type": "display_data"
    }
   ],
   "source": [
    "coef = pd.Series(lr_reg.coef_, index=X_features.columns)\n",
    "coef_sort = coef.sort_values(ascending=False)\n",
    "sns.barplot(x=coef_sort.values, y=coef_sort.index)\n",
    "plt.savefig('log_transform.tif', format='tif', dpi=300, bbox_inches='tight')\n",
    "plt.show()"
   ]
  },
  {
   "cell_type": "markdown",
   "id": "ea483a48-75c9-4941-9332-9751f1ff83ae",
   "metadata": {},
   "source": [
    "회귀 계수 영향도가 높은 피처들을 살펴보면 year는 2011, 2012 값으로, month는 1,2,3,,, 같이 숫자값 형태로 있다.\n",
    "\n",
    "개별 숫자값의 크기가 의미가 있는 것은 아니므로 모두 카테고리형 피처이다. 따라서 이러한 피처 인코딩에 원핫 인코딩을 적용하여 변환한다."
   ]
  },
  {
   "cell_type": "code",
   "execution_count": 54,
   "id": "daf97433-ddc2-43f2-9d1e-547b61ddb44b",
   "metadata": {},
   "outputs": [],
   "source": [
    "# 그런 다음 OneHotEncoding\n",
    "X_features_ohe = pd.get_dummies(X_features, columns=['year', 'month','day', 'hour', 'holiday',\n",
    "                                                     'workingday','season','weather'])"
   ]
  },
  {
   "cell_type": "code",
   "execution_count": 45,
   "id": "a291dcf5-8a65-4a39-a854-3a3182597f58",
   "metadata": {},
   "outputs": [
    {
     "name": "stdout",
     "output_type": "stream",
     "text": [
      "### LinearRegression ###\n",
      "RMSLE: 0.590, RMSE: 97.688, MAE: 63.382\n",
      "### Ridge ###\n",
      "RMSLE: 0.590, RMSE: 98.529, MAE: 63.893\n",
      "### Lasso ###\n",
      "RMSLE: 0.635, RMSE: 113.219, MAE: 72.803\n"
     ]
    }
   ],
   "source": [
    "# 원-핫 인코딩이 적용된 feature 데이터 세트 기반으로 학습/예측 데이터 분할. \n",
    "X_train, X_test, y_train, y_test = train_test_split(X_features_ohe, y_target_log,\n",
    "                                                    test_size=0.3, random_state=0)\n",
    "\n",
    "# 모델과 학습/테스트 데이터 셋을 입력하면 성능 평가 수치를 반환\n",
    "def get_model_predict(model, X_train, X_test, y_train, y_test, is_expm1=False):\n",
    "    model.fit(X_train, y_train)\n",
    "    pred = model.predict(X_test)\n",
    "    if is_expm1 :\n",
    "        y_test = np.expm1(y_test)\n",
    "        pred = np.expm1(pred)\n",
    "    print('###',model.__class__.__name__,'###')\n",
    "    evaluate_regr(y_test, pred)\n",
    "# end of function get_model_predict    \n",
    "\n",
    "# model 별로 평가 수행\n",
    "lr_reg = LinearRegression()\n",
    "ridge_reg = Ridge(alpha=10)\n",
    "lasso_reg = Lasso(alpha=0.01)\n",
    "\n",
    "for model in [lr_reg, ridge_reg, lasso_reg]:\n",
    "    get_model_predict(model,X_train, X_test, y_train, y_test,is_expm1=True)"
   ]
  },
  {
   "cell_type": "markdown",
   "id": "dfc9b1fc-9f57-461f-8a95-981fcafea422",
   "metadata": {},
   "source": [
    "인코딩 적용 후 예측 성능이 향상된 것을 확인할 수 있다.\n",
    "\n",
    "다시 회귀 계수 상위 20개 피처를 추출하여 시각화 해본다."
   ]
  },
  {
   "cell_type": "code",
   "execution_count": 57,
   "id": "57404336-feef-4d4d-9336-e603478c50e2",
   "metadata": {},
   "outputs": [
    {
     "data": {
      "text/plain": [
       "month_9      1.137628e+10\n",
       "month_8      1.137628e+10\n",
       "month_7      1.137628e+10\n",
       "hour_17      8.867476e+08\n",
       "hour_18      8.867476e+08\n",
       "                 ...     \n",
       "season_2    -1.043168e+10\n",
       "season_1    -1.045484e+10\n",
       "season_3    -2.294403e+10\n",
       "year_2012   -4.146862e+10\n",
       "year_2011   -4.146862e+10\n",
       "Length: 73, dtype: float64"
      ]
     },
     "execution_count": 57,
     "metadata": {},
     "output_type": "execute_result"
    }
   ],
   "source": [
    "coef = pd.Series(lr_reg.coef_ , index=X_features_ohe.columns)\n",
    "coef_sort = coef.sort_values(ascending=False)\n",
    "coef_sort"
   ]
  },
  {
   "cell_type": "code",
   "execution_count": 58,
   "id": "7ed2d847-84b8-4546-99cf-a2a8aa4e0916",
   "metadata": {},
   "outputs": [
    {
     "data": {
      "image/png": "[encoded data removed]",
      "text/plain": [
       "<Figure size 640x480 with 1 Axes>"
      ]
     },
     "metadata": {},
     "output_type": "display_data"
    }
   ],
   "source": [
    "coef = pd.Series(lr_reg.coef_ , index=X_features_ohe.columns)\n",
    "coef_sort = coef.reindex(coef.abs().sort_values(ascending=False).index[:20])\n",
    "sns.barplot(x=coef_sort.values , y=coef_sort.index)\n",
    "plt.show()"
   ]
  }
 ],
 "metadata": {
  "kernelspec": {
   "display_name": "Python 3 (ipykernel)",
   "language": "python",
   "name": "python3"
  },
  "language_info": {
   "codemirror_mode": {
    "name": "ipython",
    "version": 3
   },
   "file_extension": ".py",
   "mimetype": "text/x-python",
   "name": "python",
   "nbconvert_exporter": "python",
   "pygments_lexer": "ipython3",
   "version": "3.12.7"
  }
 },
 "nbformat": 4,
 "nbformat_minor": 5
}
