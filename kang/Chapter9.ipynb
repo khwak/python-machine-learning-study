{
 "cells": [
  {
   "cell_type": "markdown",
   "id": "387f8609-374a-498a-88e6-ae5e9b2788d1",
   "metadata": {},
   "source": [
    "# 추천 시스템"
   ]
  },
  {
   "cell_type": "markdown",
   "id": "ffb482ee-a1a3-404e-ace8-aac79e1c27b5",
   "metadata": {},
   "source": [
    "## 추천 시스템의 개요와 배경"
   ]
  },
  {
   "cell_type": "markdown",
   "id": "553e2c9d-9f3e-4c0f-9d22-2083f8b28770",
   "metadata": {},
   "source": [
    "### 추천 시스템의 개요"
   ]
  },
  {
   "cell_type": "markdown",
   "id": "63fdff40-df21-43cb-8698-b73746e57d02",
   "metadata": {},
   "source": [
    "한정된 시간이라는 제약을 가진 상황에서 너무 많은 상품과 콘텐츠는 사용자에게 압박감을 느끼게 만들 수 있는데, 추천 시스템이 이런 상황을 타게해준다"
   ]
  },
  {
   "cell_type": "markdown",
   "id": "00582969-40ac-47da-925b-c1f16dc029eb",
   "metadata": {},
   "source": [
    "### 추천 시스템의 유형"
   ]
  },
  {
   "cell_type": "markdown",
   "id": "ae0e9d48-63ee-4dc5-a701-8e67e1aa2242",
   "metadata": {},
   "source": [
    "+ 콘텐츠 기반 필터링 content based filtering\n",
    "+ 협업 필터링 collaborative filtering\n",
    "  + 최근접 이웃 nearest neighbor\n",
    "  + 잠재 요인 latent factor"
   ]
  },
  {
   "cell_type": "markdown",
   "id": "5f74142c-a8bb-4de2-9005-ba4d5487dc8b",
   "metadata": {},
   "source": [
    "## 콘텐츠 기반 필터링 추천 시스템"
   ]
  },
  {
   "cell_type": "markdown",
   "id": "2a69db02-75b7-4c30-a16c-edeb54903b6e",
   "metadata": {},
   "source": [
    "사용자가 특정한 아이템을 매우 선호하는 경우, 그 아이템과 비슷한 콘텐츠를 가진 다른 아이템을 추천하는 방식"
   ]
  },
  {
   "cell_type": "markdown",
   "id": "e41a9fc1-569e-4d38-a8c9-4f3cebc06b6c",
   "metadata": {},
   "source": [
    "## 최근접 이웃 협업 필터링"
   ]
  },
  {
   "cell_type": "markdown",
   "id": "a052367a-270e-4937-88aa-912fd4d14994",
   "metadata": {},
   "source": [
    "사용자가 아이템에 매긴 평점 정보나 상품 구매 이력과 같은 사용자 행동 양식 user behavior만을 기반으로 추천 수행\n",
    "\n",
    "축적된 사용자 행동 데이터를 기반으로 사용자가 아직 평가하지 않은 아이템을 에측 평가하는 것"
   ]
  },
  {
   "cell_type": "markdown",
   "id": "95f3ddbb-4983-4cbf-9161-3da374bb2fab",
   "metadata": {},
   "source": [
    "최근접 이웃 협업 필터링 = 메모리 협업 필터링\n",
    "+ 사용자 기반 user-user\n",
    "+ 아이템 기반 item-item"
   ]
  },
  {
   "cell_type": "markdown",
   "id": "3deea893-062f-479c-bffe-195f25883fcc",
   "metadata": {},
   "source": [
    "추천 시스템에 사용되는 데이터는 피처 벡터화된 텍스트 데이터와 동일하게 다차원 희소 행렬이라는 특징이 있으므로 유사도 측정을 위해 주로 코사인 유사도를 이용한다."
   ]
  },
  {
   "cell_type": "markdown",
   "id": "38b27975-0ab7-4a36-8eda-6b6d56c9260f",
   "metadata": {},
   "source": [
    "## 잠재 요인 협업 필터링"
   ]
  },
  {
   "cell_type": "markdown",
   "id": "ae8c6e6d-81e3-48bd-bff1-c47fe08faf7d",
   "metadata": {},
   "source": [
    "### 잠재 요인 협업 필터링의 이해"
   ]
  },
  {
   "cell_type": "markdown",
   "id": "245b7eb3-d949-414c-a430-1e9a2802bf5f",
   "metadata": {},
   "source": [
    "사용자-아이템 평점 매트릭스 속에 숨어 있는 잠재 요인을 추출해 추천 예측을 할 수 있게 하는 기법"
   ]
  },
  {
   "cell_type": "markdown",
   "id": "64b24343-3288-4ef7-856c-4577a54203f5",
   "metadata": {},
   "source": [
    "행렬 분해 matrix factorization : 대규모 다차원 행렬을 SVD와 같은 차원 감소 기법으로 분해하는 과정에서 잠재 요인을 추출함"
   ]
  },
  {
   "cell_type": "markdown",
   "id": "0cb83536-bc48-45fc-b15b-ea278f5ecd6d",
   "metadata": {},
   "source": [
    "### 행렬 분해의 이해"
   ]
  },
  {
   "cell_type": "markdown",
   "id": "2f499f7e-e0e8-427c-9a8c-0b236c276b22",
   "metadata": {},
   "source": [
    "+ SVD singular vector decomposition\n",
    "+ NMF non-negative matrix factorization"
   ]
  },
  {
   "cell_type": "markdown",
   "id": "ef220d0e-cf12-4981-9cfa-116e3c0fc861",
   "metadata": {},
   "source": [
    "행렬에 널 값이 있는 경우 확률적 경사 하강법이나 ALS alternating least squares 방식을 이용해 SVD를 수행한다."
   ]
  },
  {
   "cell_type": "markdown",
   "id": "a801d6ec-2019-4a59-9a4b-08fdeaf45088",
   "metadata": {},
   "source": [
    "### 확률적 경사 하강법을 이용한 행렬 분해"
   ]
  },
  {
   "cell_type": "markdown",
   "id": "36679077-9ee2-42d1-91e7-d8d4b58a0ef8",
   "metadata": {},
   "source": [
    "P와 Q행렬로 계산된 예측 R행렬 값이 실제 R행렬 값과 가장 최소의 오류를 가질 수 있도록 반복적인 비용 함수 최적화를 통해 P와 Q를 유추해내는 것이다."
   ]
  },
  {
   "cell_type": "markdown",
   "id": "7aa32a1b-7804-45a4-b326-aa01d95d2dca",
   "metadata": {},
   "source": [
    "1. P와 Q를 임의의 값을 가진 행렬로 설정\n",
    "2. P와 Q.T 값을 곱해 예측 R 행렬을 계산, 실제 R 행렬에 해당하는 오류 값 계산\n",
    "3. 오류 값을 최소화할 수 있도록 P, Q 업데이트\n",
    "4. 2,3번 작업을 반복하면서 근사화 "
   ]
  },
  {
   "cell_type": "code",
   "execution_count": 1,
   "id": "4daa863b-b80e-41d9-9984-ff36c4b7c7d7",
   "metadata": {},
   "outputs": [],
   "source": [
    "import numpy as np\n",
    "\n",
    "# 원본 행렬 R 생성, 분해 행렬 P와 Q 초기화, 잠재요인 차원 K는 3 설정. \n",
    "R = np.array([[4, np.NaN, np.NaN, 2, np.NaN ],\n",
    "              [np.NaN, 5, np.NaN, 3, 1 ],\n",
    "              [np.NaN, np.NaN, 3, 4, 4 ],\n",
    "              [5, 2, 1, 2, np.NaN ]])\n",
    "num_users, num_items = R.shape\n",
    "K=3\n",
    "\n",
    "# P와 Q 매트릭스의 크기를 지정하고 정규분포를 가진 random한 값으로 입력합니다. \n",
    "np.random.seed(1)\n",
    "P = np.random.normal(scale=1./K, size=(num_users, K))\n",
    "Q = np.random.normal(scale=1./K, size=(num_items, K))"
   ]
  },
  {
   "cell_type": "markdown",
   "id": "2c740df7-5c0d-4118-98b0-b04e15b1c576",
   "metadata": {},
   "source": [
    "오차를 구하는 get_rmse() 함수. \n",
    "\n",
    "널 값이 아닌 행렬 값의 위치 인덱스를 추출해 실제 R 행렬 값과 분해된 P,Q를 이용해 다시 조합된 예측 행렬 값의 RMSE 반환"
   ]
  },
  {
   "cell_type": "code",
   "execution_count": 2,
   "id": "245b2e36-527a-44e4-809f-cc218ab557cd",
   "metadata": {},
   "outputs": [],
   "source": [
    "from sklearn.metrics import mean_squared_error\n",
    "\n",
    "def get_rmse(R, P, Q, non_zeros):\n",
    "    error = 0\n",
    "    # 두개의 분해된 행렬 P와 Q.T의 내적으로 예측 R 행렬 생성\n",
    "    full_pred_matrix = np.dot(P, Q.T)\n",
    "    \n",
    "    # 실제 R 행렬에서 널이 아닌 값의 위치 인덱스 추출하여 실제 R 행렬과 예측 행렬의 RMSE 추출\n",
    "    x_non_zero_ind = [non_zero[0] for non_zero in non_zeros]\n",
    "    y_non_zero_ind = [non_zero[1] for non_zero in non_zeros]\n",
    "    R_non_zeros = R[x_non_zero_ind, y_non_zero_ind]\n",
    "    full_pred_matrix_non_zeros = full_pred_matrix[x_non_zero_ind, y_non_zero_ind]\n",
    "      \n",
    "    mse = mean_squared_error(R_non_zeros, full_pred_matrix_non_zeros)\n",
    "    rmse = np.sqrt(mse)\n",
    "    \n",
    "    return rmse"
   ]
  },
  {
   "cell_type": "markdown",
   "id": "7308099a-8225-45d0-8689-3d64a86b1daa",
   "metadata": {},
   "source": [
    "SGD 기반으로 행렬 분해 수행"
   ]
  },
  {
   "cell_type": "code",
   "execution_count": 3,
   "id": "d3d6b891-deac-4339-aa5e-795ebd404d64",
   "metadata": {},
   "outputs": [
    {
     "name": "stdout",
     "output_type": "stream",
     "text": [
      "### iteration step :  0  rmse :  3.2388050277987723\n",
      "### iteration step :  50  rmse :  0.4876723101369648\n",
      "### iteration step :  100  rmse :  0.1564340384819247\n",
      "### iteration step :  150  rmse :  0.07455141311978046\n",
      "### iteration step :  200  rmse :  0.04325226798579314\n",
      "### iteration step :  250  rmse :  0.029248328780878973\n",
      "### iteration step :  300  rmse :  0.022621116143829466\n",
      "### iteration step :  350  rmse :  0.019493636196525135\n",
      "### iteration step :  400  rmse :  0.018022719092132704\n",
      "### iteration step :  450  rmse :  0.01731968595344266\n",
      "### iteration step :  500  rmse :  0.016973657887570753\n",
      "### iteration step :  550  rmse :  0.016796804595895633\n",
      "### iteration step :  600  rmse :  0.01670132290188466\n",
      "### iteration step :  650  rmse :  0.01664473691247669\n",
      "### iteration step :  700  rmse :  0.016605910068210026\n",
      "### iteration step :  750  rmse :  0.016574200475705\n",
      "### iteration step :  800  rmse :  0.01654431582921597\n",
      "### iteration step :  850  rmse :  0.01651375177473524\n",
      "### iteration step :  900  rmse :  0.01648146573819501\n",
      "### iteration step :  950  rmse :  0.016447171683479155\n"
     ]
    }
   ],
   "source": [
    "# R > 0 인 행 위치, 열 위치, 값을 non_zeros 리스트에 저장. \n",
    "non_zeros = [ (i, j, R[i,j]) for i in range(num_users) for j in range(num_items) if R[i,j] > 0 ]\n",
    "\n",
    "steps=1000\n",
    "learning_rate=0.01\n",
    "r_lambda=0.01\n",
    "\n",
    "# SGD 기법으로 P와 Q 매트릭스를 계속 업데이트. \n",
    "for step in range(steps):\n",
    "    for i, j, r in non_zeros:\n",
    "        # 실제 값과 예측 값의 차이인 오류 값 구함\n",
    "        eij = r - np.dot(P[i, :], Q[j, :].T)\n",
    "        # Regularization을 반영한 SGD 업데이트 공식 적용\n",
    "        P[i,:] = P[i,:] + learning_rate*(eij * Q[j, :] - r_lambda*P[i,:])\n",
    "        Q[j,:] = Q[j,:] + learning_rate*(eij * P[i, :] - r_lambda*Q[j,:])\n",
    "\n",
    "    rmse = get_rmse(R, P, Q, non_zeros)\n",
    "    if (step % 50) == 0 :\n",
    "        print(\"### iteration step : \", step,\" rmse : \", rmse)"
   ]
  },
  {
   "cell_type": "code",
   "execution_count": 4,
   "id": "f6bdf9ae-985c-4561-a455-61f53f279808",
   "metadata": {},
   "outputs": [
    {
     "name": "stdout",
     "output_type": "stream",
     "text": [
      "예측 행렬:\n",
      " [[3.991 0.897 1.306 2.002 1.663]\n",
      " [6.696 4.978 0.979 2.981 1.003]\n",
      " [6.677 0.391 2.987 3.977 3.986]\n",
      " [4.968 2.005 1.006 2.017 1.14 ]]\n"
     ]
    }
   ],
   "source": [
    "pred_matrix = np.dot(P, Q.T)\n",
    "print('예측 행렬:\\n', np.round(pred_matrix, 3))"
   ]
  },
  {
   "cell_type": "markdown",
   "id": "eb4c5830-700a-4856-8e2f-5623abbea503",
   "metadata": {},
   "source": [
    "## 컨텐츠 기반 필터링 실습 - TMDB 5000 영화 데이터 세트"
   ]
  },
  {
   "cell_type": "markdown",
   "id": "1c4b8978-5f42-488f-8150-087c4b0a6877",
   "metadata": {},
   "source": [
    "## 아이템 기반 최근접 이웃 협업 필터링 실습"
   ]
  },
  {
   "cell_type": "markdown",
   "id": "2f5f342d-ccb7-45fb-a1e3-b334eb66b1f9",
   "metadata": {},
   "source": [
    "## 행렬 분해를 이용한 잠재 요인 협업 필터링 실습"
   ]
  },
  {
   "cell_type": "markdown",
   "id": "d3ee4410-aefd-4a51-9b36-474c68793e5d",
   "metadata": {},
   "source": [
    "## 파이썬 추천 시스템 패키지 - Suprise"
   ]
  }
 ],
 "metadata": {
  "kernelspec": {
   "display_name": "Python 3 (ipykernel)",
   "language": "python",
   "name": "python3"
  },
  "language_info": {
   "codemirror_mode": {
    "name": "ipython",
    "version": 3
   },
   "file_extension": ".py",
   "mimetype": "text/x-python",
   "name": "python",
   "nbconvert_exporter": "python",
   "pygments_lexer": "ipython3",
   "version": "3.12.7"
  }
 },
 "nbformat": 4,
 "nbformat_minor": 5
}
